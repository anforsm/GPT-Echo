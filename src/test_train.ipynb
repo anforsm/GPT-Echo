{
 "cells": [
  {
   "cell_type": "code",
   "execution_count": 2,
   "metadata": {},
   "outputs": [
    {
     "name": "stderr",
     "output_type": "stream",
     "text": [
      "Creating blobs: 100%|██████████| 38/38 [00:00<00:00, 1085.66it/s]\n",
      "Tokenizing blobs: 100%|██████████| 380/380 [01:29<00:00,  4.24it/s]\n"
     ]
    },
    {
     "ename": "",
     "evalue": "",
     "output_type": "error",
     "traceback": [
      "\u001b[1;31mThe Kernel crashed while executing code in the the current cell or a previous cell. Please review the code in the cell(s) to identify a possible cause of the failure. Click <a href='https://aka.ms/vscodeJupyterKernelCrash'>here</a> for more info. View Jupyter <a href='command:jupyter.viewOutput'>log</a> for further details."
     ]
    }
   ],
   "source": [
    "from tokenizer import Tokenizer\n",
    "from blobmanager import BlobManager\n",
    "from tqdm import tqdm\n",
    "\n",
    "tokenizer = Tokenizer(65000)\n",
    "blobmanager = BlobManager()\n",
    "\n",
    "def tokenize_timit():\n",
    "    blobs = blobmanager.create_blobs_timit()\n",
    "    blobmanager.save_blobs_to_file(blobmanager.tokenize_blobs(tokenizer, blobs), \"./outputs/blobs_tokenized_timit.json\")\n",
    "\n",
    "tokenize_timit()"
   ]
  }
 ],
 "metadata": {
  "kernelspec": {
   "display_name": "Python 3",
   "language": "python",
   "name": "python3"
  },
  "language_info": {
   "codemirror_mode": {
    "name": "ipython",
    "version": 3
   },
   "file_extension": ".py",
   "mimetype": "text/x-python",
   "name": "python",
   "nbconvert_exporter": "python",
   "pygments_lexer": "ipython3",
   "version": "3.8.2"
  },
  "orig_nbformat": 4
 },
 "nbformat": 4,
 "nbformat_minor": 2
}
