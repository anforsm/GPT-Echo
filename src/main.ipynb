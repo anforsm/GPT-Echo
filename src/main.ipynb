{
 "cells": [
  {
   "cell_type": "code",
   "execution_count": 12,
   "metadata": {},
   "outputs": [],
   "source": [
    "from transformers import AutoTokenizer, AutoModelForCausalLM\n",
    "from encodec import EncodecModel\n",
    "from encodec.utils import convert_audio\n",
    "import torch\n",
    "import torchaudio\n",
    "import os\n",
    "import re\n",
    "from tqdm import tqdm"
   ]
  },
  {
   "cell_type": "code",
   "execution_count": 15,
   "metadata": {},
   "outputs": [],
   "source": [
    "encodec_model = EncodecModel.encodec_model_24khz()\n",
    "encodec_model.set_target_bandwidth(1.5)\n",
    "model_name = \"anforsm/distilgpt2-finetuned-common-voice\"\n",
    "model = AutoModelForCausalLM.from_pretrained(model_name)\n",
    "tokenizer = AutoTokenizer.from_pretrained(model_name)"
   ]
  },
  {
   "cell_type": "code",
   "execution_count": 18,
   "metadata": {},
   "outputs": [
    {
     "name": "stderr",
     "output_type": "stream",
     "text": [
      "The attention mask and the pad token id were not set. As a consequence, you may observe unexpected behavior. Please pass your input's `attention_mask` to obtain reliable results.\n",
      "Setting `pad_token_id` to `eos_token_id`:50256 for open-end generation.\n"
     ]
    }
   ],
   "source": [
    "text = \"text: Hello my name is\\nsound:\"\n",
    "tokenized = tokenizer(text, return_tensors=\"pt\")\n",
    "tokens = model.generate(tokenized[\"input_ids\"], do_sample=True, max_length=1000, top_k=50, top_p=0.95, temperature=0.9, num_return_sequences=1)"
   ]
  },
  {
   "cell_type": "code",
   "execution_count": 19,
   "metadata": {},
   "outputs": [],
   "source": [
    "def decode(tokens):\n",
    "    decoded = tokenizer.decode(tokens[0], skip_special_tokens=True)\n",
    "    # Get all audio_token_\n",
    "    pattern = r'audio_token_(\\d+)'\n",
    "    audio_tokens = re.findall(pattern, decoded)\n",
    "    audio_tokens = [int(token) for token in audio_tokens]\n",
    "\n",
    "    number_of_codebooks = 2\n",
    "    number_of_samples = len(audio_tokens) // number_of_codebooks\n",
    "    frame = torch.zeros(1, number_of_codebooks, number_of_samples, dtype=torch.long)\n",
    "    for sample in range(number_of_samples):\n",
    "        for codebook in range(number_of_codebooks):\n",
    "            frame[0, codebook, sample] = audio_tokens[sample * number_of_codebooks + codebook]\n",
    "    \n",
    "    frames = [(frame, None)]\n",
    "\n",
    "    with torch.no_grad():\n",
    "        wav = encodec_model.decode(frames)\n",
    "\n",
    "    torchaudio.save(\"output.wav\", wav[0, :, :], encodec_model.sample_rate)"
   ]
  },
  {
   "cell_type": "code",
   "execution_count": 20,
   "metadata": {},
   "outputs": [],
   "source": [
    "decode(tokens)"
   ]
  }
 ],
 "metadata": {
  "kernelspec": {
   "display_name": "Python 3",
   "language": "python",
   "name": "python3"
  },
  "language_info": {
   "codemirror_mode": {
    "name": "ipython",
    "version": 3
   },
   "file_extension": ".py",
   "mimetype": "text/x-python",
   "name": "python",
   "nbconvert_exporter": "python",
   "pygments_lexer": "ipython3",
   "version": "3.8.2"
  },
  "orig_nbformat": 4
 },
 "nbformat": 4,
 "nbformat_minor": 2
}
