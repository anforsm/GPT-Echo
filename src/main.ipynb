{
 "cells": [
  {
   "cell_type": "code",
   "execution_count": 1,
   "metadata": {},
   "outputs": [],
   "source": [
    "from transformers import AutoTokenizer, AutoModelForCausalLM\n",
    "from encodec import EncodecModel\n",
    "from encodec.utils import convert_audio\n",
    "import torch\n",
    "import torchaudio\n",
    "import os\n",
    "import re\n",
    "from tqdm import tqdm"
   ]
  },
  {
   "cell_type": "code",
   "execution_count": 2,
   "metadata": {},
   "outputs": [
    {
     "name": "stderr",
     "output_type": "stream",
     "text": [
      "Downloading (…)lve/main/config.json: 100%|██████████| 1.01k/1.01k [00:00<00:00, 253kB/s]\n",
      "c:\\Python38\\lib\\site-packages\\huggingface_hub\\file_download.py:129: UserWarning: `huggingface_hub` cache-system uses symlinks by default to efficiently store duplicated files but your machine does not support them in C:\\Users\\Admin\\.cache\\huggingface\\hub. Caching files will still work but in a degraded version that might require more space on your disk. This warning can be disabled by setting the `HF_HUB_DISABLE_SYMLINKS_WARNING` environment variable. For more details, see https://huggingface.co/docs/huggingface_hub/how-to-cache#limitations.\n",
      "To support symlinks on Windows, you either need to activate Developer Mode or to run Python as an administrator. In order to see activate developer mode, see this article: https://docs.microsoft.com/en-us/windows/apps/get-started/enable-your-device-for-development\n",
      "  warnings.warn(message)\n",
      "Downloading (…)\"pytorch_model.bin\";: 100%|██████████| 337M/337M [00:09<00:00, 34.6MB/s] \n",
      "Downloading (…)neration_config.json: 100%|██████████| 119/119 [00:00<00:00, 39.7kB/s]\n",
      "Downloading (…)okenizer_config.json: 100%|██████████| 261/261 [00:00<00:00, 87.0kB/s]\n",
      "Downloading (…)olve/main/vocab.json: 100%|██████████| 798k/798k [00:00<00:00, 870kB/s]\n",
      "Downloading (…)olve/main/merges.txt: 100%|██████████| 456k/456k [00:00<00:00, 827kB/s]\n",
      "Downloading (…)/main/tokenizer.json: 100%|██████████| 2.30M/2.30M [00:04<00:00, 543kB/s]\n",
      "Downloading (…)in/added_tokens.json: 100%|██████████| 28.6k/28.6k [00:00<00:00, 290kB/s]\n",
      "Downloading (…)cial_tokens_map.json: 100%|██████████| 131/131 [00:00<00:00, 32.7kB/s]\n"
     ]
    }
   ],
   "source": [
    "encodec_model = EncodecModel.encodec_model_24khz()\n",
    "encodec_model.set_target_bandwidth(1.5)\n",
    "model_name = \"anforsm/distilgpt2-finetuned-common-voice\"\n",
    "model = AutoModelForCausalLM.from_pretrained(model_name )\n",
    "tokenizer = AutoTokenizer.from_pretrained(model_name)"
   ]
  },
  {
   "cell_type": "code",
   "execution_count": 14,
   "metadata": {},
   "outputs": [
    {
     "name": "stderr",
     "output_type": "stream",
     "text": [
      "The attention mask and the pad token id were not set. As a consequence, you may observe unexpected behavior. Please pass your input's `attention_mask` to obtain reliable results.\n",
      "Setting `pad_token_id` to `eos_token_id`:50256 for open-end generation.\n"
     ]
    }
   ],
   "source": [
    "text = 'text: This is an example sound what are you\\nsound:'\n",
    "tokenized = tokenizer(text, return_tensors=\"pt\")\n",
    "tokens = model.generate(tokenized[\"input_ids\"], do_sample=True, max_length=1024, top_k=50, top_p=0.95, temperature=0.99, num_return_sequences=1)"
   ]
  },
  {
   "cell_type": "code",
   "execution_count": 4,
   "metadata": {},
   "outputs": [],
   "source": [
    "def decode(tokens):\n",
    "    decoded = tokenizer.decode(tokens[0], skip_special_tokens=True)\n",
    "    # Get all audio_token_\n",
    "    pattern = r'audio_token_(\\d+)'\n",
    "    audio_tokens = re.findall(pattern, decoded)\n",
    "    audio_tokens = [int(token) for token in audio_tokens]\n",
    "\n",
    "    print(audio_tokens)\n",
    "\n",
    "    number_of_codebooks = 2\n",
    "    number_of_samples = len(audio_tokens) // number_of_codebooks\n",
    "    frame = torch.zeros(1, number_of_codebooks, number_of_samples, dtype=torch.long)\n",
    "    for sample in range(number_of_samples):\n",
    "        for codebook in range(number_of_codebooks):\n",
    "            frame[0, codebook, sample] = audio_tokens[sample * number_of_codebooks + codebook]\n",
    "    \n",
    "    frames = [(frame, None)]\n",
    "\n",
    "    with torch.no_grad():\n",
    "        wav = encodec_model.decode(frames)\n",
    "\n",
    "    torchaudio.save(\"output.wav\", wav[0, :, :], encodec_model.sample_rate)"
   ]
  },
  {
   "cell_type": "code",
   "execution_count": 15,
   "metadata": {},
   "outputs": [
    {
     "name": "stdout",
     "output_type": "stream",
     "text": [
      "[62, 913, 408, 544, 62, 424, 62, 424, 408, 544, 408, 544, 408, 913, 408, 913, 408, 913, 408, 424, 472, 961, 404, 961, 475, 961, 475, 961, 404, 961, 404, 961, 404, 928, 475, 961, 404, 961, 404, 961, 257, 961, 475, 961, 835, 969, 257, 961, 257, 961, 404, 961, 52, 961, 257, 913, 106, 969, 106, 969, 408, 518, 408, 518, 408, 913, 408, 913, 408, 913, 62, 424, 62, 424, 62, 424, 62, 424, 62, 424, 62, 424, 62, 424, 62, 518, 62, 424, 62, 424, 62, 424, 62, 424, 62, 424, 62, 424, 408, 544, 62, 424, 62, 424, 62, 424, 62, 424, 62, 424, 62, 424, 62, 424, 62, 424, 62, 424, 62, 424, 62, 518, 62, 518, 62, 518, 62, 518, 62, 424, 62, 518, 62, 518, 62, 518, 62, 518, 62, 518, 62, 518, 62, 518, 62, 518, 62, 518, 62, 518, 62, 518, 62, 518, 62, 518, 62, 518, 62, 518, 62, 518, 62, 518, 62, 518, 62, 518, 62, 518, 62, 518, 62, 518, 62, 518, 62, 518, 62, 518, 62, 518, 62, 518, 62, 518, 62, 518, 62, 518, 62, 518, 62, 518, 62, 518, 62, 518, 62, 518, 62, 518, 62, 518, 62, 518, 62, 518, 62, 518, 62, 518, 62, 518, 62, 518, 62, 518, 62, 518, 62, 518, 62, 518, 62, 518, 62, 518, 62, 518, 62, 518, 62, 518, 62, 518, 62, 518, 62, 518, 62, 518, 62, 518, 62, 518, 62, 518, 62, 518, 62, 518, 62, 518, 62, 518, 62, 518, 62, 518, 62, 518, 62, 518, 62, 518, 62, 518, 62, 518, 62, 518, 62, 518, 62, 518, 62, 518, 62, 518, 62, 518, 62, 518, 62, 518, 62, 518, 62, 518, 62, 518, 62, 518, 62, 518, 62, 518, 62, 518, 62, 518, 62, 518, 62, 518, 62, 518, 62, 518, 62, 518, 62, 518, 62, 518, 62, 518, 62, 518, 62, 518, 62, 518, 62, 518, 62, 518, 62, 518, 62, 518, 62, 518, 62, 518, 62, 518, 62, 518, 62, 518, 62, 518, 62, 518, 62, 518, 62, 518, 62, 518, 62, 518, 62, 518, 62, 518, 62, 518, 62, 518, 62, 518, 62, 518, 62, 518, 62, 518, 62, 518, 62, 518, 62, 518, 62, 518, 62, 518, 62, 518, 62, 518, 62, 518, 62, 518, 62, 518, 62, 518, 62, 518, 62, 518, 62, 518, 62, 518, 62, 518, 62, 518, 62, 518, 62, 518, 62, 518, 62, 518, 62, 518, 62, 518, 62, 518, 62, 518, 62, 518, 62, 518, 62, 518, 62, 518, 62, 518, 62, 518, 62, 518, 62, 518, 62, 518, 62, 518, 62, 518, 62, 518, 62, 518, 62, 518, 62, 518, 62, 518, 62, 518, 62, 518, 62, 518, 62, 518, 62, 518, 62, 518, 62, 518, 62, 518, 62, 518, 62, 518, 62, 518, 62, 518, 62, 518, 62, 518, 62, 518, 62, 518, 62, 518, 62, 518, 62, 518, 62, 518, 62, 518, 62, 518, 62, 518, 62, 518, 62, 518, 62, 518, 62, 518, 62, 518, 62, 518, 62, 518, 62, 518, 62, 518, 62, 518, 62, 518, 62, 518, 62, 518, 62, 518, 62, 518, 62, 518, 62, 518, 62, 518, 62, 518, 62, 518, 62, 518, 62, 518, 62, 518, 62, 518, 62, 518, 62, 518, 62, 518, 62, 518, 62, 518, 62, 518, 62, 518, 62, 518, 62, 518, 62, 518, 62, 518, 62, 518, 62, 518, 62, 518, 62, 518, 62, 518, 62, 518, 62, 518, 62, 518, 62, 518, 62, 518, 62, 518, 62, 518, 62, 518, 62, 518, 62, 518, 62, 518, 62, 518, 62, 518, 62, 518, 62, 518, 62, 518, 62, 518, 62, 518, 62, 518, 62, 518, 62, 518, 62, 518, 62, 518, 62, 518, 62, 518, 62, 518, 62, 518, 62, 518, 62, 518, 62, 518, 62, 518, 62, 518, 62, 518, 62, 518, 62, 518, 62, 518, 62, 518, 62, 518, 62, 518, 62, 518, 62, 518, 62, 518, 62, 518, 62, 518, 62, 518, 62, 518, 62, 518, 62, 518, 62, 518, 62, 518, 62, 518, 62, 518, 62, 518, 62, 518, 62, 518, 62, 518, 62, 518, 62, 518, 62, 518, 62, 518, 62, 518, 62, 518, 62, 518, 62, 518, 62, 518, 62, 518, 62, 518, 62, 518, 62, 518, 62, 518, 62, 518, 62, 518, 62, 518, 62, 518, 62, 518, 62, 518, 62, 518, 62, 518, 62, 518, 62, 518, 62, 518, 62, 518, 62, 518, 62, 518, 62, 518, 62, 518, 62, 518, 62, 518, 62, 518, 62, 518, 62, 518, 62, 518, 62, 518, 62, 518, 62, 518, 62, 518, 62, 518, 62, 518, 62, 518, 62, 518, 62, 518, 62, 518, 62, 518, 62, 518, 62, 518, 62, 518, 62, 518, 62, 518, 62, 518, 62, 518, 62, 518, 62, 518, 62, 518, 62, 518, 62, 518, 62, 518, 62, 518, 62, 518, 62, 518, 62, 518, 62, 518, 62, 518, 62, 518, 62, 518, 62, 518, 62, 518, 62, 518, 62, 518, 62, 518, 62, 518, 62, 518, 62, 518, 62, 518, 62, 518, 62, 518, 62, 518, 62, 518, 62, 518, 62, 518, 62, 518, 62, 518, 62, 518, 62, 518, 62, 518, 62, 518, 62, 518, 62, 518, 62, 518, 62, 518, 62, 518, 62, 518, 62, 518, 62, 518, 62, 518, 62, 518, 62, 518, 62, 518, 62, 518, 62, 518, 62, 518, 62, 518, 62, 518, 62, 518, 62, 518, 62, 518, 62, 518, 62, 518, 62, 518, 62, 518, 62, 518, 62, 518, 62, 518, 62, 518, 62, 518, 62, 518, 62, 518, 62, 518, 62, 518, 62, 518, 62, 518, 62, 518, 62, 518, 62, 518, 62, 518, 62, 518, 62, 518, 62, 518, 62, 518, 62, 518, 62, 518]\n"
     ]
    }
   ],
   "source": [
    "decode(tokens)"
   ]
  },
  {
   "cell_type": "code",
   "execution_count": 9,
   "metadata": {},
   "outputs": [
    {
     "name": "stdout",
     "output_type": "stream",
     "text": [
      "[63, 937, 835, 740, 835, 302, 339, 913, 1019, 747, 228, 601, 875, 646, 670, 815, 672, 777, 570, 815, 86, 986, 767, 572, 644, 711, 621, 881, 996, 881, 278, 881, 39, 940]\n"
     ]
    }
   ],
   "source": [
    "decode([tokenizer(\"My name is Teven and I am not a woman.\\nsound: audio_token_63audio_token_937audio_token_835audio_token_740audio_token_835audio_token_302audio_token_339audio_token_913audio_token_1019audio_token_747audio_token_228audio_token_601audio_token_875audio_token_646audio_token_670audio_token_815audio_token_672audio_token_777audio_token_570audio_token_815audio_token_86audio_token_986audio_token_767audio_token_572audio_token_644audio_token_711audio_token_621audio_token_881audio_token_996audio_token_881audio_token_278audio_token_881audio_token_39audio_token_940\")[\"input_ids\"]])"
   ]
  }
 ],
 "metadata": {
  "kernelspec": {
   "display_name": "Python 3",
   "language": "python",
   "name": "python3"
  },
  "language_info": {
   "codemirror_mode": {
    "name": "ipython",
    "version": 3
   },
   "file_extension": ".py",
   "mimetype": "text/x-python",
   "name": "python",
   "nbconvert_exporter": "python",
   "pygments_lexer": "ipython3",
   "version": "3.8.2"
  },
  "orig_nbformat": 4
 },
 "nbformat": 4,
 "nbformat_minor": 2
}
