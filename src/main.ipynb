{
 "cells": [
  {
   "cell_type": "code",
   "execution_count": 1,
   "metadata": {},
   "outputs": [],
   "source": [
    "from tokenizer import Tokenizer\n",
    "from blobmanager import BlobManager\n",
    "from main import test_decode, create_blobs, test_decode_blob\n",
    "tokenizer = Tokenizer()\n",
    "blobmanager = BlobManager()"
   ]
  },
  {
   "cell_type": "code",
   "execution_count": 3,
   "metadata": {},
   "outputs": [],
   "source": [
    "blobs = blobmanager.load_blobs_from_file(\"./outputs/blobs.json\")\n",
    "blobs_tokenized = blobmanager.load_blobs_from_file(\"./outputs/blobs_tokenized.json\")"
   ]
  },
  {
   "cell_type": "code",
   "execution_count": 12,
   "metadata": {},
   "outputs": [
    {
     "name": "stdout",
     "output_type": "stream",
     "text": [
      "1160\n"
     ]
    }
   ],
   "source": [
    "audio_tokens = []\n",
    "for token in blobs_tokenized[213]:\n",
    "    if token >= 65000:\n",
    "        audio_tokens.append(token)\n",
    "\n",
    "print(len(audio_tokens))"
   ]
  },
  {
   "cell_type": "code",
   "execution_count": 7,
   "metadata": {},
   "outputs": [],
   "source": [
    "tokenizer.audio_tokenizer.detokenize(audio_tokens, \"./outputs/test1.wav\")"
   ]
  },
  {
   "cell_type": "code",
   "execution_count": 14,
   "metadata": {},
   "outputs": [],
   "source": [
    "import random\n",
    "audio_tokens = [65000 + random.randint(0, 1023) for _ in range(1160)]\n",
    "tokenizer.audio_tokenizer.detokenize(audio_tokens, \"./outputs/test2.wav\")"
   ]
  },
  {
   "cell_type": "code",
   "execution_count": 18,
   "metadata": {},
   "outputs": [],
   "source": [
    "from encodec import EncodecModel\n",
    "from tokenizer import AudioTokenizer\n",
    "model = EncodecModel.encodec_model_24khz()\n",
    "model.set_target_bandwidth(3)\n",
    "experimental_audio_tokenizer = AudioTokenizer(model, 65000)\n",
    "experimental_audio_tokenizer.detokenize(experimental_audio_tokenizer.tokenize(\"./../data/TRAIN/DR1/FCJF0/SA1.WAV\"), \"./outputs/test3.wav\")"
   ]
  },
  {
   "cell_type": "code",
   "execution_count": 22,
   "metadata": {},
   "outputs": [
    {
     "data": {
      "text/plain": [
       "880"
      ]
     },
     "execution_count": 22,
     "metadata": {},
     "output_type": "execute_result"
    }
   ],
   "source": [
    "tokens = experimental_audio_tokenizer.tokenize(\"./../data/TRAIN/DR1/FCJF0/SA1.WAV\")\n",
    "tokens = [token - 65000 for token in tokens]\n",
    "len(tokens)"
   ]
  },
  {
   "cell_type": "code",
   "execution_count": null,
   "metadata": {},
   "outputs": [],
   "source": []
  }
 ],
 "metadata": {
  "kernelspec": {
   "display_name": "Python 3",
   "language": "python",
   "name": "python3"
  },
  "language_info": {
   "codemirror_mode": {
    "name": "ipython",
    "version": 3
   },
   "file_extension": ".py",
   "mimetype": "text/x-python",
   "name": "python",
   "nbconvert_exporter": "python",
   "pygments_lexer": "ipython3",
   "version": "3.8.2"
  },
  "orig_nbformat": 4,
  "vscode": {
   "interpreter": {
    "hash": "9650cb4e16cdd4a8e8e2d128bf38d875813998db22a3c986335f89e0cb4d7bb2"
   }
  }
 },
 "nbformat": 4,
 "nbformat_minor": 2
}
